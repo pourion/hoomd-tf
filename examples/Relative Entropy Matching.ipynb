{
 "cells": [
  {
   "cell_type": "code",
   "execution_count": 1,
   "metadata": {},
   "outputs": [],
   "source": [
    "# disable GPU. Remove this if you've compiled HOOMD for GPU\n",
    "import os\n",
    "os.environ['CUDA_VISIBLE_DEVICES'] = '-1'\n",
    "\n",
    "\n",
    "# import the hoomd, htf packages\n",
    "import hoomd\n",
    "import math\n",
    "import hoomd.htf as htf\n",
    "import tensorflow as tf\n",
    "import matplotlib.pyplot as plt\n",
    "from MDAnalysis import Universe"
   ]
  },
  {
   "cell_type": "code",
   "execution_count": 11,
   "metadata": {},
   "outputs": [],
   "source": [
    "class RBFExpansion(tf.keras.layers.Layer):\n",
    "    def __init__(self, low, high, count):\n",
    "        super(RBFExpansion, self).__init__(name='rbf-layer')\n",
    "        self.low = low\n",
    "        self.high = high\n",
    "        self.centers = tf.cast(tf.linspace(low, high, count), dtype=tf.float32)\n",
    "        self.gap = self.centers[1] - self.centers[0]\n",
    "\n",
    "    def call(self, inputs):\n",
    "        # input shpe\n",
    "        x = tf.reshape(inputs, (-1,))\n",
    "        rbf = tf.math.exp(-(x[:,tf.newaxis] - self.centers)**2 / self.gap)\n",
    "        #remove 0s\n",
    "        rbf *= tf.cast(x > 1e-5, tf.float32)[:,tf.newaxis]\n",
    "        return tf.reshape(rbf, tf.concat((tf.shape(inputs), self.centers.shape), axis=0))\n",
    "\n",
    "class WCARepulsion(tf.keras.layers.Layer):\n",
    "    def __init__(self, start):\n",
    "        super(WCARepulsion, self).__init__(name='wca-repulsion')\n",
    "        # we make it big to ensure \n",
    "        self.sigma = self.add_variable(\n",
    "            shape=(),\n",
    "            regularizer=lambda x: -1e-3 * x,\n",
    "            initializer=tf.keras.initializers.Constant(value=start)\n",
    "        )\n",
    "    def call(self, nlist):\n",
    "        rinv = htf.nlist_rinv(nlist)\n",
    "        true_sig = self.sigma\n",
    "        rp = (true_sig * rinv)**6\n",
    "        # make it so anything above cut is 0\n",
    "        r = tf.norm(nlist[:,:,:3], axis=2)\n",
    "        r_pair_energy = tf.cast(r < true_sig * 2**(1/3), tf.float32) * rp\n",
    "        return tf.clip_by_value(r_pair_energy,0, 10)"
   ]
  },
  {
   "cell_type": "code",
   "execution_count": 12,
   "metadata": {},
   "outputs": [],
   "source": [
    "class RDF(htf.SimModel):\n",
    "    def setup(self):\n",
    "        self.rdf = tf.keras.metrics.MeanTensor()\n",
    "    def compute(self, nlist):\n",
    "        rdf = htf.compute_rdf(nlist, [0, 5])\n",
    "        self.rdf(rdf)"
   ]
  },
  {
   "cell_type": "code",
   "execution_count": 44,
   "metadata": {},
   "outputs": [],
   "source": [
    "class NlistNN(htf.SimModel):\n",
    "    def setup(self, dim, top_neighs):\n",
    "        self.dense1 = tf.keras.layers.Dense(dim)\n",
    "        self.dense2 = tf.keras.layers.Dense(dim)\n",
    "        self.last = tf.keras.layers.Dense(1)\n",
    "        # just dummy single variable\n",
    "        # regularization just pushes location of repulsion to right\n",
    "        self.repulsion = WCARepulsion(1.0)\n",
    "        self.rbf = RBFExpansion(0, 5, dim)\n",
    "        self.top_neighs = top_neighs\n",
    "        self.avg_ugrad = None\n",
    "        self.avg_energy = tf.keras.metrics.Mean()\n",
    "        self.rdf = tf.keras.metrics.MeanTensor()\n",
    "            \n",
    "    def compute(self, nlist):\n",
    "        rinv = htf.nlist_rinv(nlist)\n",
    "        # closest neighbors have largest value in 1/r, take top\n",
    "        sorted_n = tf.reshape(tf.sort(rinv, axis=1, direction='DESCENDING'), [-1, self.nneighbor_cutoff])\n",
    "        top_n = sorted_n[:, :self.top_neighs]\n",
    "        # start computing gradients of energy wrt model\n",
    "        # parameters\n",
    "        with tf.GradientTape() as tape:\n",
    "            \n",
    "            # histogram out distances onto grid\n",
    "            x = self.rbf(top_n)        \n",
    "            # run through NN\n",
    "            x = self.dense1(x)\n",
    "            x = self.dense2(x)\n",
    "            pair_energy = self.last(x) + self.repulsion(nlist)\n",
    "                        \n",
    "            # get total energy\n",
    "            energy = tf.reduce_sum(pair_energy)\n",
    "            # get energy with regularization\n",
    "            aug_energy = energy + sum(model.losses)\n",
    "        ugrad = tape.gradient(aug_energy, self.trainable_weights)\n",
    "        if self.avg_ugrad is None:\n",
    "            self.avg_ugrad = [tf.keras.metrics.MeanTensor() for _ in model.trainable_weights]\n",
    "        for a,u in zip(self.avg_ugrad,ugrad):\n",
    "            a.update_state(u)\n",
    "        self.avg_energy.update_state(aug_energy)\n",
    "        forces = htf.compute_nlist_forces(nlist, energy)        \n",
    "        rdf = htf.compute_rdf(nlist, [0, 5])\n",
    "        self.rdf(rdf)\n",
    "        # don't output last column of forces, pairwise energy, since it's meaningless here\n",
    "        return forces[:,:3], energy"
   ]
  },
  {
   "cell_type": "code",
   "execution_count": 45,
   "metadata": {},
   "outputs": [],
   "source": [
    "# run the simulation\n",
    "N = 256\n",
    "hoomd.context.initialize('--mode=cpu --notice-level=0')\n",
    "rdf_model = RDF(64, output_forces=False)\n",
    "tfcompute = htf.tfcompute(rdf_model)\n",
    "\n",
    "rcut = 7.5\n",
    "system = hoomd.init.create_lattice(\n",
    "    unitcell=hoomd.lattice.sq(a=4.0),\n",
    "    n=[int(math.sqrt(N)), int(math.sqrt(N))])\n",
    "nlist = hoomd.md.nlist.cell()\n",
    "lj = hoomd.md.pair.lj(r_cut=rcut, nlist=nlist)\n",
    "lj.pair_coeff.set('A', 'A', epsilon=1, sigma=1)\n",
    "hoomd.md.integrate.mode_standard(dt=0.005)\n",
    "hoomd.md.integrate.nve(group=hoomd.group.all(\n",
    "        )).randomize_velocities(kT=0.5, seed=2)\n",
    "tfcompute.attach(nlist, rcut)\n",
    "hoomd.run(1e3)\n",
    "\n",
    "hoomd.dump.dcd(filename='ref.dcd', period=100, overwrite=True)\n",
    "hoomd.run(1e4)"
   ]
  },
  {
   "cell_type": "code",
   "execution_count": 46,
   "metadata": {},
   "outputs": [],
   "source": [
    "ref_rdf = rdf_model.rdf.result().numpy()"
   ]
  },
  {
   "cell_type": "code",
   "execution_count": 47,
   "metadata": {},
   "outputs": [
    {
     "name": "stderr",
     "output_type": "stream",
     "text": [
      "*Warning*: Ignoring new options, cannot change execution mode after initialization.\n"
     ]
    }
   ],
   "source": [
    "# run the simulation\n",
    "N = 256\n",
    "period = 10\n",
    "hoomd.context.initialize('--mode=cpu')\n",
    "hoomd.util.quiet_status()\n",
    "\n",
    "# we do NOT compile!\n",
    "model = NlistNN(64, dim=32, top_neighs=16, output_forces = True)\n",
    "\n",
    "tfcompute = htf.tfcompute(model)\n",
    "rcut = 7.5\n",
    "system = hoomd.init.create_lattice(\n",
    "    unitcell=hoomd.lattice.sq(a=4.0),\n",
    "    n=[int(math.sqrt(N)), int(math.sqrt(N))])\n",
    "nlist = hoomd.md.nlist.cell()\n",
    "hoomd.md.integrate.mode_standard(dt=0.005)\n",
    "nvt = hoomd.md.integrate.nvt(group=hoomd.group.all(),kT=0.5, tau=0.2\n",
    "        )\n",
    "snapshot = system.take_snapshot()\n",
    "tfcompute.attach(nlist, r_cut=rcut, period=period)\n",
    "\n",
    "def sample_cgmodel(desired_frames, equil=1e3):\n",
    "    system.restore_snapshot(snapshot)\n",
    "    hoomd.run(equil)\n",
    "    [a.reset_states() for a in model.avg_ugrad]\n",
    "    model.avg_energy.reset_states()\n",
    "    nvt.randomize_velocities(seed=4)\n",
    "    hoomd.run(desired_frames / period, quiet=True)"
   ]
  },
  {
   "cell_type": "code",
   "execution_count": 48,
   "metadata": {},
   "outputs": [],
   "source": [
    "# initial RDF\n",
    "model.rdf.reset_states()\n",
    "sample_cgmodel(1e4)\n",
    "init_rdf = model.rdf.result().numpy()"
   ]
  },
  {
   "cell_type": "code",
   "execution_count": 49,
   "metadata": {},
   "outputs": [],
   "source": [
    "def iter_refmodel():\n",
    "    universe = Universe('ref.dcd')\n",
    "    while True:\n",
    "        for inputs, ts in htf.iter_from_trajectory(64, universe, r_cut=rcut, period=1):\n",
    "            #labels = ts.forces\n",
    "            labels = ts.positions\n",
    "            yield model(inputs)\n",
    "    "
   ]
  },
  {
   "cell_type": "code",
   "execution_count": 32,
   "metadata": {
    "scrolled": true
   },
   "outputs": [
    {
     "name": "stdout",
     "output_type": "stream",
     "text": [
      "0 10132309.633804321 1.0316059e+17\n",
      "1 286638.9386138916 127019510000000.0\n",
      "2 1898467.5277209878 1.919185e+16\n",
      "3 224478.64943526778 40193150000000.0\n",
      "4 208982.62915644422 81903120000000.0\n",
      "5 369225.2747806944 3723431000000000.0\n",
      "6 119824.65647941828 41834747000000.0\n",
      "7 1666460.6925834566 1.6781745e+16\n",
      "8 47987.63016039133 14347508000000.0\n",
      "9 48013.786244764924 22403126000000.0\n",
      "10 2210054.2535705715 2.2125372e+16\n",
      "11 52197.69083441794 18988965000000.0\n",
      "12 1463174.0356121212 1.4566286e+16\n",
      "13 21012.94789463654 5679145300000.0\n",
      "14 38713.22846997157 6318159000000.0\n",
      "15 252490.08708116505 2492691000000000.0\n",
      "16 104485.88663373236 12199907000000.0\n",
      "17 817.7196914197557 8036835000000.0\n",
      "18 112420.67909586802 16989191000000.0\n",
      "19 130438.13537896518 20745007000000.0\n",
      "20 266978.1457304992 2610442500000000.0\n",
      "21 190124.50180068705 40942875000000.0\n",
      "22 431916.0277347602 4211540500000000.0\n",
      "23 219990.71426028386 41362506000000.0\n",
      "24 247551.25296101347 47811880000000.0\n",
      "25 311543.23696869984 3026332200000000.0\n",
      "26 203342.81238961592 43211297000000.0\n",
      "27 118467.3249889398 1148154700000000.0\n",
      "28 213061.35231405497 44211770000000.0\n",
      "29 88759.06196092162 16543738000000.0\n",
      "30 4531.923807464773 43792623000000.0\n",
      "31 36111.37723904196 5969637500000.0\n",
      "32 79403.37304885034 765995540000000.0\n",
      "33 36153.341222856194 5227875000000.0\n",
      "34 29658.91944243014 3439797500000.0\n",
      "35 195915.13460934255 1885457800000000.0\n",
      "36 9011.176257045008 912348900000.0\n",
      "37 170549.16225896124 1638475000000000.0\n",
      "38 16463.80005780235 1815746300000.0\n",
      "39 1043.7249440038577 112285835000.0\n",
      "40 48773.59291486535 467313000000000.0\n",
      "41 3292.1812884593382 387643470000.0\n",
      "42 3635.4702436961234 34777151000000.0\n",
      "43 42823.672017865814 5648485000000.0\n",
      "44 2582.9077239210164 396950830000.0\n",
      "45 21008.568580270745 200572170000000.0\n",
      "46 54717.0592939714 8928476000000.0\n",
      "47 40291.51430950151 384277940000000.0\n",
      "48 20045.65736515657 3457921300000.0\n",
      "49 19819.270129306475 2846532300000.0\n",
      "50 26907.847862094874 256328800000000.0\n",
      "51 32823.2814645851 4538821000000.0\n",
      "52 7173.7909372598515 68299237000000.0\n",
      "53 10116.78030988673 988490100000.0\n",
      "54 12393.897056639194 1390721000000.0\n",
      "55 3351.3544965463225 31886842000000.0\n",
      "56 4130.642275328806 358215550000.0\n",
      "57 13980.870298482536 132971340000000.0\n",
      "58 1184.121335794276 69910330000.0\n",
      "59 14329.576060258783 1193753300000.0\n",
      "60 18951.54534656182 180135740000000.0\n",
      "61 8385.331720469752 638457940000.0\n",
      "62 11095.24183523748 105411265000000.0\n",
      "63 5328.345051863231 495806780000.0\n",
      "64 9796.208898649551 696468050000.0\n",
      "65 462.5526885426516 4391377600000.0\n",
      "66 6458.530429098813 667032900000.0\n",
      "67 643.5541993058869 6107323400000.0\n",
      "68 4641.928355265642 318629700000.0\n",
      "69 17607.252258662134 1273839400000.0\n",
      "70 3718.0458060061937 35268010000000.0\n",
      "71 0.37856497046595905 27312622.0\n",
      "72 2901.7532076891657 27519277000000.0\n",
      "73 14386.90910448326 1093822600000.0\n",
      "74 12426.581731439568 1040460800000.0\n",
      "75 113.27216263886021 1074002000000.0\n",
      "76 722.1321501414204 65562722000.0\n",
      "77 412.54465750191594 3911103300000.0\n",
      "78 119.7255150736055 6813262000.0\n",
      "79 697.9409186300472 64769155000.0\n",
      "80 2159.73082527706 20471704000000.0\n",
      "81 58.99517881707288 5100239400.0\n",
      "82 1817.8894604742673 17229176000000.0\n",
      "83 2919.9065351716854 194990700000.0\n",
      "84 1497.2844026168023 105001090000.0\n",
      "85 236.3493071969142 2239526600000.0\n",
      "86 390.63981993641937 24771109000.0\n",
      "87 24.024321154202198 227612250000.0\n",
      "88 9357.889133623394 705217800000.0\n",
      "89 7282.273011892161 542256330000.0\n",
      "90 399.2728679827451 3782203700000.0\n",
      "91 2592.9099260726944 273419520000.0\n",
      "92 227.4254103185458 2154183300000.0\n",
      "93 3005.6138166301535 199736460000.0\n",
      "94 240.89303070731694 12530317000.0\n",
      "95 12.714441311382188 120423240000.0\n",
      "96 458.29588966127267 36555485000.0\n",
      "97 147.53363072283628 1397289900000.0\n",
      "98 13.62813474045197 1045177540.0\n",
      "99 22630.01822229568 2105290000000.0\n"
     ]
    }
   ],
   "source": [
    "epochs = 100\n",
    "batch_size = 64\n",
    "optimizer = tf.keras.optimizers.Adam(learning_rate=1e-3)\n",
    "refmodel_iterator = iter_refmodel()\n",
    "loss = []\n",
    "net_grad = []\n",
    "weight_averager = None\n",
    "\n",
    "for e in range(epochs):\n",
    "    sample_cgmodel(batch_size)\n",
    "    cg_grad = [a.result() for a in model.avg_ugrad]\n",
    "    cg_energy =  model.avg_energy.result().numpy()\n",
    "    for b in range(batch_size):\n",
    "        next(refmodel_iterator)\n",
    "    \n",
    "    delta_e = model.avg_energy.result().numpy() - cg_energy\n",
    "    delta_grad = [2 * delta_e * (fp.result() - cg) for fp,cg in zip(model.avg_ugrad, cg_grad)]\n",
    "    [a.reset_states() for a in model.avg_ugrad]\n",
    "    model.avg_energy.reset_states()\n",
    "    \n",
    "    net_grad.append(sum([tf.reduce_sum(a**2) for a in delta_grad]).numpy())\n",
    "    loss.append(delta_e**2)\n",
    "    \n",
    "    optimizer.apply_gradients(zip(delta_grad, model.trainable_weights))\n",
    "            \n",
    "    print(e, loss[-1], net_grad[-1])\n"
   ]
  },
  {
   "cell_type": "code",
   "execution_count": 33,
   "metadata": {
    "scrolled": false
   },
   "outputs": [
    {
     "data": {
      "image/png": "[encoded data removed]",
      "text/plain": [
       "<Figure size 432x288 with 1 Axes>"
      ]
     },
     "metadata": {
      "needs_background": "light"
     },
     "output_type": "display_data"
    }
   ],
   "source": [
    "plt.plot(loss)\n",
    "plt.yscale('log')"
   ]
  },
  {
   "cell_type": "code",
   "execution_count": 34,
   "metadata": {},
   "outputs": [
    {
     "data": {
      "text/plain": [
       "[<tf.Tensor: shape=(), dtype=float32, numpy=-0.0010097395>]"
      ]
     },
     "execution_count": 34,
     "metadata": {},
     "output_type": "execute_result"
    }
   ],
   "source": [
    "model.losses"
   ]
  },
  {
   "cell_type": "code",
   "execution_count": 35,
   "metadata": {},
   "outputs": [
    {
     "data": {
      "text/plain": [
       "[<tf.Variable 'Variable:0' shape=() dtype=float32, numpy=1.0097394>]"
      ]
     },
     "execution_count": 35,
     "metadata": {},
     "output_type": "execute_result"
    }
   ],
   "source": [
    "model.layers[3].trainable_weights"
   ]
  },
  {
   "cell_type": "code",
   "execution_count": 36,
   "metadata": {},
   "outputs": [],
   "source": [
    "# Final RDF\n",
    "model.rdf.reset_states()\n",
    "sample_cgmodel(1e4)\n",
    "final_rdf = model.rdf.result().numpy()"
   ]
  },
  {
   "cell_type": "code",
   "execution_count": 37,
   "metadata": {},
   "outputs": [
    {
     "data": {
      "text/plain": [
       "array([0.02500005, 0.07499987, 0.125     , 0.17499965, 0.22499974,\n",
       "       0.27500048, 0.32500044, 0.375     , 0.42500037, 0.47499907,\n",
       "       0.525001  , 0.5749989 , 0.625     , 0.6750014 , 0.7249998 ,\n",
       "       0.7749998 , 0.8249983 , 0.875     , 0.92500174, 0.9750014 ,\n",
       "       1.0249983 , 1.074998  , 1.125     , 1.1750021 , 1.2250024 ,\n",
       "       1.2749976 , 1.3249984 , 1.375     , 1.4250005 , 1.4750029 ,\n",
       "       1.5249969 , 1.5750006 , 1.625     , 1.6749988 , 1.7250034 ,\n",
       "       1.7749965 , 1.8250022 , 1.875     , 1.9249972 , 1.9750038 ,\n",
       "       2.0249963 , 2.0750034 , 2.125     , 2.1749961 , 2.225004  ,\n",
       "       2.2749958 , 2.3250043 , 2.375     , 2.4249954 , 2.4750042 ,\n",
       "       2.5249958 , 2.5750048 , 2.625     , 2.6749947 , 2.7250023 ,\n",
       "       2.774998  , 2.8250058 , 2.875     , 2.9249942 , 2.9750001 ,\n",
       "       3.025     , 3.0750062 , 3.125     , 3.1749935 , 3.224998  ,\n",
       "       3.2750022 , 3.3250067 , 3.375     , 3.4249933 , 3.4749966 ,\n",
       "       3.5250037 , 3.575007  , 3.625     , 3.674993  , 3.7249954 ,\n",
       "       3.7750049 , 3.8250074 , 3.875     , 3.9249926 , 3.9749937 ,\n",
       "       4.0250063 , 4.0750074 , 4.125     , 4.1749926 , 4.2249928 ,\n",
       "       4.2750072 , 4.325008  , 4.375     , 4.424992  , 4.474992  ,\n",
       "       4.525008  , 4.5750084 , 4.625     , 4.6749916 , 4.724991  ,\n",
       "       4.775009  , 4.8250084 , 4.875     , 4.9249916 , 4.9749904 ],\n",
       "      dtype=float32)"
      ]
     },
     "execution_count": 37,
     "metadata": {},
     "output_type": "execute_result"
    }
   ],
   "source": [
    "final_rdf[1,:]"
   ]
  },
  {
   "cell_type": "code",
   "execution_count": 41,
   "metadata": {},
   "outputs": [
    {
     "data": {
      "text/plain": [
       "<matplotlib.legend.Legend at 0x7fdaf87776d0>"
      ]
     },
     "execution_count": 41,
     "metadata": {},
     "output_type": "execute_result"
    },
    {
     "data": {
      "image/png": "[encoded data removed]",
      "text/plain": [
       "<Figure size 432x288 with 1 Axes>"
      ]
     },
     "metadata": {
      "needs_background": "light"
     },
     "output_type": "display_data"
    }
   ],
   "source": [
    "plt.plot(init_rdf[1,:], init_rdf[0,:], label='initial')\n",
    "plt.plot(final_rdf[1,:], final_rdf[0,:], label='final')\n",
    "plt.plot(ref_rdf[1,:], ref_rdf[0,:], label='ref')\n",
    "plt.ylim(0,100)\n",
    "plt.legend()"
   ]
  },
  {
   "cell_type": "code",
   "execution_count": 50,
   "metadata": {},
   "outputs": [],
   "source": [
    "r = tf.linspace(0.5, 5, 1000)\n",
    "output = htf.compute_pairwise(model, r)"
   ]
  },
  {
   "cell_type": "code",
   "execution_count": 55,
   "metadata": {},
   "outputs": [
    {
     "data": {
      "text/plain": [
       "[<matplotlib.lines.Line2D at 0x7fda72aba1d0>]"
      ]
     },
     "execution_count": 55,
     "metadata": {},
     "output_type": "execute_result"
    },
    {
     "data": {
      "image/png": "[encoded data removed]",
      "text/plain": [
       "<Figure size 432x288 with 1 Axes>"
      ]
     },
     "metadata": {
      "needs_background": "light"
     },
     "output_type": "display_data"
    }
   ],
   "source": [
    "plt.plot(r, output[1])"
   ]
  }
 ],
 "metadata": {
  "kernelspec": {
   "display_name": "Python 3",
   "language": "python",
   "name": "python3"
  },
  "language_info": {
   "codemirror_mode": {
    "name": "ipython",
    "version": 3
   },
   "file_extension": ".py",
   "mimetype": "text/x-python",
   "name": "python",
   "nbconvert_exporter": "python",
   "pygments_lexer": "ipython3",
   "version": "3.7.8"
  }
 },
 "nbformat": 4,
 "nbformat_minor": 4
}
