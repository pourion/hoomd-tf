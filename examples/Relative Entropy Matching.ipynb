{
 "cells": [
  {
   "cell_type": "code",
   "execution_count": 1,
   "metadata": {},
   "outputs": [],
   "source": [
    "# disable GPU. Remove this if you've compiled HOOMD for GPU\n",
    "import os\n",
    "os.environ['CUDA_VISIBLE_DEVICES'] = '-1'\n",
    "\n",
    "\n",
    "# import the hoomd, htf packages\n",
    "import hoomd\n",
    "import math\n",
    "import hoomd.htf as htf\n",
    "import tensorflow as tf\n",
    "import matplotlib.pyplot as plt\n",
    "from MDAnalysis import Universe\n",
    "import numpy as np"
   ]
  },
  {
   "cell_type": "code",
   "execution_count": 233,
   "metadata": {},
   "outputs": [
    {
     "data": {
      "text/plain": [
       "<tf.Tensor: shape=(4, 3, 3), dtype=float32, numpy=\n",
       "array([[[-0.02561314,  0.01920986, -0.01280657],\n",
       "        [ 0.        ,  0.        ,  0.        ],\n",
       "        [ 0.        ,  0.        ,  0.        ]],\n",
       "\n",
       "       [[-0.02561314,  0.01920986, -0.01280657],\n",
       "        [ 0.        ,  0.        ,  0.        ],\n",
       "        [ 0.        ,  0.        ,  0.        ]],\n",
       "\n",
       "       [[-0.02561314,  0.01920986, -0.01280657],\n",
       "        [ 0.        ,  0.        ,  0.        ],\n",
       "        [ 0.        ,  0.        ,  0.        ]],\n",
       "\n",
       "       [[-0.02561315,  0.01920986, -0.01280657],\n",
       "        [ 0.        ,  0.        ,  0.        ],\n",
       "        [ 0.        ,  0.        ,  0.        ]]], dtype=float32)>"
      ]
     },
     "execution_count": 233,
     "metadata": {},
     "output_type": "execute_result"
    }
   ],
   "source": [
    "nlist = np.zeros((4, 3, 3), dtype=np.float32)\n",
    "nlist[:, 0, :] = [4, -3, 2]\n",
    "nlist = tf.constant(nlist)\n",
    "with tf.GradientTape() as g:\n",
    "    g.watch(nlist)    \n",
    "    r = tnorm(nlist[:, :, :3], axis=2)\n",
    "    rinv = tf.math.divide_no_nan(1.0, r)\n",
    "    energy = tf.reduce_sum(rinv)\n",
    "g.gradient(energy, nlist)\n",
    "\n"
   ]
  },
  {
   "cell_type": "code",
   "execution_count": null,
   "metadata": {},
   "outputs": [],
   "source": []
  },
  {
   "cell_type": "code",
   "execution_count": 2,
   "metadata": {},
   "outputs": [],
   "source": [
    "class RDF(htf.SimModel):\n",
    "    def setup(self):\n",
    "        self.rdf = tf.keras.metrics.MeanTensor()\n",
    "    def compute(self, nlist):\n",
    "        rdf = htf.compute_rdf(nlist, [0, 5])\n",
    "        self.rdf(rdf)"
   ]
  },
  {
   "cell_type": "code",
   "execution_count": 3,
   "metadata": {},
   "outputs": [
    {
     "data": {
      "text/plain": [
       "<hoomd.dump.dcd at 0x7fcaa46a3e10>"
      ]
     },
     "execution_count": 3,
     "metadata": {},
     "output_type": "execute_result"
    }
   ],
   "source": [
    "# run the simulation\n",
    "N = 256\n",
    "period = 100\n",
    "hoomd.context.initialize('--mode=cpu --notice-level=0')\n",
    "rdf_model = RDF(64, output_forces=False)\n",
    "tfcompute = htf.tfcompute(rdf_model)\n",
    "\n",
    "rcut = 7.5\n",
    "system = hoomd.init.create_lattice(\n",
    "    unitcell=hoomd.lattice.sq(a=4.0),\n",
    "    n=[int(math.sqrt(N)), int(math.sqrt(N))])\n",
    "nlist = hoomd.md.nlist.cell()\n",
    "lj = hoomd.md.pair.lj(r_cut=rcut, nlist=nlist)\n",
    "lj.pair_coeff.set('A', 'A', epsilon=1, sigma=1)\n",
    "hoomd.md.integrate.mode_standard(dt=0.005)\n",
    "hoomd.md.integrate.nve(group=hoomd.group.all(\n",
    "        )).randomize_velocities(kT=0.5, seed=2)\n",
    "tfcompute.attach(nlist, rcut)\n",
    "hoomd.run(1e3)\n",
    "\n",
    "snapshot = system.take_snapshot()\n",
    "hoomd.dump.dcd(filename='ref.dcd', period=period, overwrite=True)\n",
    "#hoomd.run(1e4)"
   ]
  },
  {
   "cell_type": "code",
   "execution_count": 4,
   "metadata": {},
   "outputs": [],
   "source": [
    "ref_rdf = rdf_model.rdf.result().numpy()"
   ]
  },
  {
   "cell_type": "code",
   "execution_count": 5,
   "metadata": {},
   "outputs": [],
   "source": [
    "class RBFExpansion(tf.keras.layers.Layer):\n",
    "    def __init__(self, low, high, count):\n",
    "        super(RBFExpansion, self).__init__(name='rbf-layer')\n",
    "        self.low = low\n",
    "        self.high = high\n",
    "        self.centers = tf.cast(tf.linspace(low, high, count), dtype=tf.float32)\n",
    "        self.gap = self.centers[1] - self.centers[0]\n",
    "\n",
    "    def call(self, inputs):\n",
    "        # input shpe\n",
    "        x = tf.reshape(inputs, (-1,))\n",
    "        rbf = tf.math.exp(-(x[:,tf.newaxis] - self.centers)**2 / self.gap)\n",
    "        #remove 0s\n",
    "        rbf *= tf.cast(x > 1e-5, tf.float32)[:,tf.newaxis]\n",
    "        return tf.reshape(rbf, tf.concat((tf.shape(inputs), self.centers.shape), axis=0))\n",
    "\n",
    "class WCARepulsion(tf.keras.layers.Layer):\n",
    "    def __init__(self, start):\n",
    "        super(WCARepulsion, self).__init__(name='wca-repulsion')\n",
    "        # we make it big to ensure \n",
    "        self.sigma = self.add_weight(\n",
    "            shape=(),\n",
    "            regularizer=lambda x: -1e-3 * x,\n",
    "            initializer=tf.keras.initializers.Constant(value=start)\n",
    "        )\n",
    "    def call(self, nlist, ):\n",
    "        rinv = htf.nlist_rinv(nlist)\n",
    "        true_sig = self.sigma\n",
    "        rp = (true_sig * rinv)**6\n",
    "        # make it so anything above cut is 0\n",
    "        r = tf.norm(nlist[:,:,:3], axis=2)\n",
    "        r_pair_energy = tf.cast(r < true_sig * 2**(1/3), tf.float32) * rp\n",
    "        return tf.clip_by_value(r_pair_energy,0, 10)"
   ]
  },
  {
   "cell_type": "code",
   "execution_count": 77,
   "metadata": {},
   "outputs": [],
   "source": [
    "class NlistNN(htf.SimModel):\n",
    "    def setup(self, dim, top_neighs):\n",
    "        self.dense1 = tf.keras.layers.Dense(dim, use_bias=False)\n",
    "        self.dense2 = tf.keras.layers.Dense(dim, use_bias=False)\n",
    "        self.last = tf.keras.layers.Dense(1, use_bias=False)\n",
    "        # just dummy single variable\n",
    "        # regularization just pushes location of repulsion to right\n",
    "        #self.repulsion = WCARepulsion(1.0)\n",
    "        self.rbf = RBFExpansion(0, 5, dim)\n",
    "        self.top_neighs = top_neighs\n",
    "        self.jacobians = None\n",
    "        self.rdf = tf.keras.metrics.MeanTensor()\n",
    "        self.track_forces = True\n",
    "    \n",
    "    def compute(self, nlist):\n",
    "        #tf.debugging.enable_check_numerics()\n",
    "        if self.track_forces:\n",
    "            with tf.GradientTape() as g1:\n",
    "                energy = self.energy(nlist)                    \n",
    "                forces = htf.compute_nlist_forces(nlist, energy)\n",
    "            jac = g1.jacobian(forces, self.trainable_weights)\n",
    "            if self.jacobians is None:\n",
    "                self.jacobians = [tf.Variable(j, trainable=False) for j in jac]\n",
    "            for ji, jj in zip(self.jacobians, jac):\n",
    "                ji.assign_add(jj)\n",
    "        else:\n",
    "            forces = self.do_compute(nlist)\n",
    "        return forces\n",
    "    \n",
    "    def energy(self, nlist):\n",
    "        # Want closest, but not zeros. \n",
    "        delta = 1e-6\n",
    "        r = htf.safe_norm(nlist[:,:,:3], axis=2, delta=delta)\n",
    "        top_n = r * tf.cast(r > delta * 10, tf.float32)\n",
    "        x = self.rbf(top_n)        \n",
    "        # run through NN\n",
    "        x = self.dense1(x)\n",
    "        x = self.dense2(x)\n",
    "        pair_energy = tf.reduce_sum(tf.squeeze(self.last(x)), axis=-1)# + tf.reduce_sum(self.repulsion(nlist), axis=-1)\n",
    "\n",
    "        # get total energy\n",
    "        energy = tf.reduce_sum(pair_energy)\n",
    "        return energy"
   ]
  },
  {
   "cell_type": "code",
   "execution_count": 78,
   "metadata": {},
   "outputs": [
    {
     "name": "stderr",
     "output_type": "stream",
     "text": [
      "*Warning*: Ignoring new options, cannot change execution mode after initialization.\n"
     ]
    }
   ],
   "source": [
    "# run the simulation\n",
    "N = 256\n",
    "period = 10\n",
    "hoomd.context.initialize('--mode=cpu')\n",
    "hoomd.util.quiet_status()\n",
    "\n",
    "# we do NOT compile!\n",
    "model = NlistNN(64, dim=32, top_neighs=16, output_forces = True)\n",
    "#model = TrainableLJ(64)\n",
    "\n",
    "tfcompute = htf.tfcompute(model)\n",
    "rcut = 7.5\n",
    "system = hoomd.init.create_lattice(\n",
    "    unitcell=hoomd.lattice.sq(a=4.0),\n",
    "    n=[int(math.sqrt(N)), int(math.sqrt(N))])\n",
    "nlist = hoomd.md.nlist.cell()\n",
    "nvt = hoomd.md.integrate.nvt(group=hoomd.group.all(),kT=0.5, tau=0.2\n",
    "        )\n",
    "hoomd.md.integrate.mode_standard(dt = 0.005)\n",
    "tfcompute.attach(nlist, r_cut=rcut, period = 10)"
   ]
  },
  {
   "cell_type": "code",
   "execution_count": 79,
   "metadata": {},
   "outputs": [
    {
     "name": "stdout",
     "output_type": "stream",
     "text": [
      "WARNING:tensorflow:10 out of the last 11 calls to <function SimModel.compute_inputs at 0x7fc98d820a70> triggered tf.function retracing. Tracing is expensive and the excessive number of tracings could be due to (1) creating @tf.function repeatedly in a loop, (2) passing tensors with different shapes, (3) passing Python objects instead of tensors. For (1), please define your @tf.function outside of the loop. For (2), @tf.function has experimental_relax_shapes=True option that relaxes argument shapes that can avoid unnecessary retracing. For (3), please refer to https://www.tensorflow.org/tutorials/customization/performance#python_or_tensor_args and https://www.tensorflow.org/api_docs/python/tf/function for  more details.\n",
      "WARNING:tensorflow:11 out of the last 11 calls to <function SimModel.compute_outputs at 0x7fc98d8204d0> triggered tf.function retracing. Tracing is expensive and the excessive number of tracings could be due to (1) creating @tf.function repeatedly in a loop, (2) passing tensors with different shapes, (3) passing Python objects instead of tensors. For (1), please define your @tf.function outside of the loop. For (2), @tf.function has experimental_relax_shapes=True option that relaxes argument shapes that can avoid unnecessary retracing. For (3), please refer to https://www.tensorflow.org/tutorials/customization/performance#python_or_tensor_args and https://www.tensorflow.org/api_docs/python/tf/function for  more details.\n"
     ]
    }
   ],
   "source": [
    "# initial RDF\n",
    "#model.rdf.reset_states()\n",
    "hoomd.run(25)\n",
    "#init_rdf = model.rdf.result().numpy()"
   ]
  },
  {
   "cell_type": "code",
   "execution_count": 81,
   "metadata": {
    "scrolled": false
   },
   "outputs": [
    {
     "data": {
      "text/plain": [
       "<tf.Tensor: shape=(32, 1), dtype=float32, numpy=\n",
       "array([[-4.68492508e-05],\n",
       "       [ 3.55243683e-05],\n",
       "       [ 3.66345048e-05],\n",
       "       [ 5.74290752e-05],\n",
       "       [ 2.35289335e-05],\n",
       "       [-5.23328781e-05],\n",
       "       [ 5.54919243e-05],\n",
       "       [-1.40368938e-05],\n",
       "       [-8.37445259e-06],\n",
       "       [-3.97562981e-05],\n",
       "       [-5.09023666e-05],\n",
       "       [-8.94665718e-05],\n",
       "       [-2.47657299e-05],\n",
       "       [ 6.98389485e-05],\n",
       "       [-2.70307064e-05],\n",
       "       [-1.92523003e-05],\n",
       "       [ 1.37239695e-05],\n",
       "       [-2.95937061e-05],\n",
       "       [ 6.14523888e-05],\n",
       "       [-6.74128532e-05],\n",
       "       [-2.32458115e-05],\n",
       "       [ 1.50501728e-05],\n",
       "       [ 4.18424606e-05],\n",
       "       [ 1.37090683e-06],\n",
       "       [ 5.47170639e-05],\n",
       "       [ 1.00731850e-05],\n",
       "       [-2.84910202e-05],\n",
       "       [ 2.49147415e-05],\n",
       "       [ 9.71555710e-06],\n",
       "       [ 8.15391541e-05],\n",
       "       [-1.63316727e-05],\n",
       "       [-2.87294388e-05]], dtype=float32)>"
      ]
     },
     "execution_count": 81,
     "metadata": {},
     "output_type": "execute_result"
    }
   ],
   "source": [
    "model.jacobians[2][0,0]"
   ]
  },
  {
   "cell_type": "code",
   "execution_count": 137,
   "metadata": {},
   "outputs": [
    {
     "data": {
      "text/plain": [
       "<tf.Tensor: shape=(), dtype=float32, numpy=1024.0>"
      ]
     },
     "execution_count": 137,
     "metadata": {},
     "output_type": "execute_result"
    }
   ],
   "source": [
    "tf.reduce_sum(1 - tf.cast(tf.math.is_nan(model.jacobians[3]), tf.float32))"
   ]
  },
  {
   "cell_type": "code",
   "execution_count": null,
   "metadata": {},
   "outputs": [],
   "source": [
    "\n",
    "steps = 5\n",
    "compute_period = 10\n",
    "hoomd.md.integrate.mode_standard(dt = period / steps / compute_period)\n",
    "tfcompute.attach(nlist, r_cut=rcut, period = compute_period)\n",
    "\n",
    "\n",
    "epochs = 1\n",
    "optimizer = tf.keras.optimizers.Adam(learning_rate=1e-3)\n",
    "loss = []\n",
    "\n",
    "model.track_forces = True\n",
    "model.retrace_compute()\n",
    "\n",
    "for e in range(epochs):\n",
    "    universe = Universe('ref.dcd')\n",
    "    labels = None\n",
    "    for inputs, ts in htf.iter_from_trajectory(64, universe, r_cut=rcut, period=1):\n",
    "        if labels is not None:\n",
    "            system.restore_snapshot(snapshot)\n",
    "            hoomd.run(steps)\n",
    "            break\n",
    "        labels = ts.positions\n",
    "        snapshot.particles.position[:] = ts.positions[:]\n",
    "    #optimizer.apply_gradients(zip(grad, model.trainable_weights))"
   ]
  },
  {
   "cell_type": "code",
   "execution_count": null,
   "metadata": {},
   "outputs": [],
   "source": []
  },
  {
   "cell_type": "code",
   "execution_count": 162,
   "metadata": {},
   "outputs": [
    {
     "data": {
      "text/plain": [
       "<tf.Variable 'Variable:0' shape=(256, 32) dtype=float32, numpy=\n",
       "array([[  6.8653665,   3.7646604,  -0.7094736, ...,   8.245194 ,\n",
       "        -12.776527 ,  -0.7465802],\n",
       "       [  6.8653665,   3.7646604,  -0.7094736, ...,   8.245194 ,\n",
       "        -12.776527 ,  -0.7465802],\n",
       "       [  6.8653665,   3.7646604,  -0.7094736, ...,   8.245194 ,\n",
       "        -12.776527 ,  -0.7465802],\n",
       "       ...,\n",
       "       [  6.8653665,   3.7646604,  -0.7094736, ...,   8.245194 ,\n",
       "        -12.776527 ,  -0.7465802],\n",
       "       [  6.8653665,   3.7646604,  -0.7094736, ...,   8.245194 ,\n",
       "        -12.776527 ,  -0.7465802],\n",
       "       [  6.8653665,   3.7646604,  -0.7094736, ...,   8.245194 ,\n",
       "        -12.776527 ,  -0.7465802]], dtype=float32)>"
      ]
     },
     "execution_count": 162,
     "metadata": {},
     "output_type": "execute_result"
    }
   ],
   "source": [
    "model.jacobians[1]"
   ]
  },
  {
   "cell_type": "code",
   "execution_count": 143,
   "metadata": {
    "scrolled": true
   },
   "outputs": [
    {
     "data": {
      "text/plain": [
       "[<tf.Variable 'dense_69/kernel:0' shape=(32, 32) dtype=float32, numpy=\n",
       " array([[ 0.09033999, -0.17770918,  0.11154124, ..., -0.13929938,\n",
       "          0.17224735, -0.29142925],\n",
       "        [-0.25860006,  0.02399307,  0.03695381, ..., -0.22499713,\n",
       "         -0.03706607,  0.06185624],\n",
       "        [-0.1691149 , -0.02454224, -0.23604444, ...,  0.20833251,\n",
       "         -0.01133165, -0.21039572],\n",
       "        ...,\n",
       "        [-0.05816475, -0.001735  ,  0.20322224, ..., -0.19304359,\n",
       "         -0.27727395, -0.11879544],\n",
       "        [-0.28100318, -0.19328988, -0.28136352, ...,  0.06415319,\n",
       "          0.23870322,  0.11587828],\n",
       "        [ 0.0895589 , -0.2000601 , -0.22627085, ...,  0.09339127,\n",
       "         -0.29637474, -0.15603204]], dtype=float32)>,\n",
       " <tf.Variable 'dense_69/bias:0' shape=(32,) dtype=float32, numpy=\n",
       " array([0., 0., 0., 0., 0., 0., 0., 0., 0., 0., 0., 0., 0., 0., 0., 0., 0.,\n",
       "        0., 0., 0., 0., 0., 0., 0., 0., 0., 0., 0., 0., 0., 0., 0.],\n",
       "       dtype=float32)>,\n",
       " <tf.Variable 'dense_70/kernel:0' shape=(32, 32) dtype=float32, numpy=\n",
       " array([[ 0.26122168, -0.08803938,  0.11880624, ...,  0.03081986,\n",
       "          0.08341771, -0.09006114],\n",
       "        [ 0.20837381, -0.2440758 , -0.16560467, ...,  0.2683322 ,\n",
       "          0.27607527,  0.20742145],\n",
       "        [-0.23954913, -0.07645619, -0.23496637, ...,  0.22535774,\n",
       "          0.27579436,  0.25600383],\n",
       "        ...,\n",
       "        [ 0.01913154,  0.11340064, -0.12780932, ..., -0.01238644,\n",
       "          0.14024678,  0.10618833],\n",
       "        [ 0.15044495,  0.02540761, -0.09246446, ...,  0.12236831,\n",
       "         -0.21767   ,  0.13245544],\n",
       "        [ 0.09210947, -0.08460823,  0.22896305, ...,  0.0165284 ,\n",
       "         -0.0256604 , -0.10849164]], dtype=float32)>,\n",
       " <tf.Variable 'dense_70/bias:0' shape=(32,) dtype=float32, numpy=\n",
       " array([0., 0., 0., 0., 0., 0., 0., 0., 0., 0., 0., 0., 0., 0., 0., 0., 0.,\n",
       "        0., 0., 0., 0., 0., 0., 0., 0., 0., 0., 0., 0., 0., 0., 0.],\n",
       "       dtype=float32)>,\n",
       " <tf.Variable 'dense_71/kernel:0' shape=(32, 1) dtype=float32, numpy=\n",
       " array([[ 0.1891073 ],\n",
       "        [ 0.05925849],\n",
       "        [ 0.13186306],\n",
       "        [-0.02517813],\n",
       "        [ 0.17292905],\n",
       "        [ 0.33068794],\n",
       "        [-0.21715018],\n",
       "        [-0.07115713],\n",
       "        [-0.28448746],\n",
       "        [ 0.04210404],\n",
       "        [ 0.41741097],\n",
       "        [-0.06063572],\n",
       "        [ 0.0949499 ],\n",
       "        [-0.41541982],\n",
       "        [ 0.3127452 ],\n",
       "        [-0.3085047 ],\n",
       "        [ 0.0668509 ],\n",
       "        [-0.28669128],\n",
       "        [-0.40200225],\n",
       "        [ 0.15412909],\n",
       "        [ 0.18743622],\n",
       "        [-0.30819136],\n",
       "        [ 0.25915104],\n",
       "        [-0.12507358],\n",
       "        [ 0.2689792 ],\n",
       "        [ 0.42313588],\n",
       "        [ 0.26892626],\n",
       "        [ 0.1568824 ],\n",
       "        [ 0.07840508],\n",
       "        [ 0.14495796],\n",
       "        [ 0.28792334],\n",
       "        [-0.4089236 ]], dtype=float32)>,\n",
       " <tf.Variable 'dense_71/bias:0' shape=(1,) dtype=float32, numpy=array([0.], dtype=float32)>,\n",
       " <tf.Variable 'Variable:0' shape=() dtype=float32, numpy=1.0>]"
      ]
     },
     "execution_count": 143,
     "metadata": {},
     "output_type": "execute_result"
    }
   ],
   "source": [
    "model.trainable_variables"
   ]
  },
  {
   "cell_type": "code",
   "execution_count": 33,
   "metadata": {
    "scrolled": false
   },
   "outputs": [
    {
     "data": {
      "image/png": "[encoded data removed]",
      "text/plain": [
       "<Figure size 432x288 with 1 Axes>"
      ]
     },
     "metadata": {
      "needs_background": "light"
     },
     "output_type": "display_data"
    }
   ],
   "source": [
    "plt.plot(loss)\n",
    "plt.yscale('log')"
   ]
  },
  {
   "cell_type": "code",
   "execution_count": 34,
   "metadata": {},
   "outputs": [
    {
     "data": {
      "text/plain": [
       "[<tf.Tensor: shape=(), dtype=float32, numpy=-0.0010097395>]"
      ]
     },
     "execution_count": 34,
     "metadata": {},
     "output_type": "execute_result"
    }
   ],
   "source": [
    "model.losses"
   ]
  },
  {
   "cell_type": "code",
   "execution_count": 35,
   "metadata": {},
   "outputs": [
    {
     "data": {
      "text/plain": [
       "[<tf.Variable 'Variable:0' shape=() dtype=float32, numpy=1.0097394>]"
      ]
     },
     "execution_count": 35,
     "metadata": {},
     "output_type": "execute_result"
    }
   ],
   "source": [
    "model.layers[3].trainable_weights"
   ]
  },
  {
   "cell_type": "code",
   "execution_count": 36,
   "metadata": {},
   "outputs": [],
   "source": [
    "# Final RDF\n",
    "model.rdf.reset_states()\n",
    "sample_cgmodel(1e4)\n",
    "final_rdf = model.rdf.result().numpy()"
   ]
  },
  {
   "cell_type": "code",
   "execution_count": 37,
   "metadata": {},
   "outputs": [
    {
     "data": {
      "text/plain": [
       "array([0.02500005, 0.07499987, 0.125     , 0.17499965, 0.22499974,\n",
       "       0.27500048, 0.32500044, 0.375     , 0.42500037, 0.47499907,\n",
       "       0.525001  , 0.5749989 , 0.625     , 0.6750014 , 0.7249998 ,\n",
       "       0.7749998 , 0.8249983 , 0.875     , 0.92500174, 0.9750014 ,\n",
       "       1.0249983 , 1.074998  , 1.125     , 1.1750021 , 1.2250024 ,\n",
       "       1.2749976 , 1.3249984 , 1.375     , 1.4250005 , 1.4750029 ,\n",
       "       1.5249969 , 1.5750006 , 1.625     , 1.6749988 , 1.7250034 ,\n",
       "       1.7749965 , 1.8250022 , 1.875     , 1.9249972 , 1.9750038 ,\n",
       "       2.0249963 , 2.0750034 , 2.125     , 2.1749961 , 2.225004  ,\n",
       "       2.2749958 , 2.3250043 , 2.375     , 2.4249954 , 2.4750042 ,\n",
       "       2.5249958 , 2.5750048 , 2.625     , 2.6749947 , 2.7250023 ,\n",
       "       2.774998  , 2.8250058 , 2.875     , 2.9249942 , 2.9750001 ,\n",
       "       3.025     , 3.0750062 , 3.125     , 3.1749935 , 3.224998  ,\n",
       "       3.2750022 , 3.3250067 , 3.375     , 3.4249933 , 3.4749966 ,\n",
       "       3.5250037 , 3.575007  , 3.625     , 3.674993  , 3.7249954 ,\n",
       "       3.7750049 , 3.8250074 , 3.875     , 3.9249926 , 3.9749937 ,\n",
       "       4.0250063 , 4.0750074 , 4.125     , 4.1749926 , 4.2249928 ,\n",
       "       4.2750072 , 4.325008  , 4.375     , 4.424992  , 4.474992  ,\n",
       "       4.525008  , 4.5750084 , 4.625     , 4.6749916 , 4.724991  ,\n",
       "       4.775009  , 4.8250084 , 4.875     , 4.9249916 , 4.9749904 ],\n",
       "      dtype=float32)"
      ]
     },
     "execution_count": 37,
     "metadata": {},
     "output_type": "execute_result"
    }
   ],
   "source": [
    "final_rdf[1,:]"
   ]
  },
  {
   "cell_type": "code",
   "execution_count": 41,
   "metadata": {},
   "outputs": [
    {
     "data": {
      "text/plain": [
       "<matplotlib.legend.Legend at 0x7fdaf87776d0>"
      ]
     },
     "execution_count": 41,
     "metadata": {},
     "output_type": "execute_result"
    },
    {
     "data": {
      "image/png": "[encoded data removed]",
      "text/plain": [
       "<Figure size 432x288 with 1 Axes>"
      ]
     },
     "metadata": {
      "needs_background": "light"
     },
     "output_type": "display_data"
    }
   ],
   "source": [
    "plt.plot(init_rdf[1,:], init_rdf[0,:], label='initial')\n",
    "plt.plot(final_rdf[1,:], final_rdf[0,:], label='final')\n",
    "plt.plot(ref_rdf[1,:], ref_rdf[0,:], label='ref')\n",
    "plt.ylim(0,100)\n",
    "plt.legend()"
   ]
  },
  {
   "cell_type": "code",
   "execution_count": 60,
   "metadata": {},
   "outputs": [
    {
     "ename": "ValueError",
     "evalue": "in user code:\n\n    <ipython-input-56-1cf1dfe4a59f>:39 compute  *\n        a.update_state(u)\n    /home/whitead/miniconda3/envs/htf2/lib/python3.7/site-packages/tensorflow/python/keras/utils/metrics_utils.py:90 decorated  **\n        update_op = update_state_fn(*args, **kwargs)\n    /home/whitead/miniconda3/envs/htf2/lib/python3.7/site-packages/tensorflow/python/keras/metrics.py:176 update_state_fn\n        return ag_update_state(*args, **kwargs)\n    /home/whitead/miniconda3/envs/htf2/lib/python3.7/site-packages/tensorflow/python/keras/metrics.py:2913 update_state  **\n        self._build(values.shape)\n    /home/whitead/miniconda3/envs/htf2/lib/python3.7/site-packages/tensorflow/python/keras/metrics.py:2885 _build\n        'total', shape=shape, initializer=init_ops.zeros_initializer)\n    /home/whitead/miniconda3/envs/htf2/lib/python3.7/site-packages/tensorflow/python/keras/metrics.py:308 add_weight\n        aggregation=aggregation)\n    /home/whitead/miniconda3/envs/htf2/lib/python3.7/site-packages/tensorflow/python/keras/engine/base_layer.py:614 add_weight\n        caching_device=caching_device)\n    /home/whitead/miniconda3/envs/htf2/lib/python3.7/site-packages/tensorflow/python/training/tracking/base.py:750 _add_variable_with_custom_getter\n        **kwargs_for_getter)\n    /home/whitead/miniconda3/envs/htf2/lib/python3.7/site-packages/tensorflow/python/keras/engine/base_layer_utils.py:145 make_variable\n        shape=variable_shape if variable_shape else None)\n    /home/whitead/miniconda3/envs/htf2/lib/python3.7/site-packages/tensorflow/python/ops/variables.py:260 __call__\n        return cls._variable_v1_call(*args, **kwargs)\n    /home/whitead/miniconda3/envs/htf2/lib/python3.7/site-packages/tensorflow/python/ops/variables.py:221 _variable_v1_call\n        shape=shape)\n    /home/whitead/miniconda3/envs/htf2/lib/python3.7/site-packages/tensorflow/python/ops/variables.py:67 getter\n        return captured_getter(captured_previous, **kwargs)\n    /home/whitead/miniconda3/envs/htf2/lib/python3.7/site-packages/tensorflow/python/eager/def_function.py:685 variable_capturing_scope\n        lifted_initializer_graph=lifted_initializer_graph, **kwds)\n    /home/whitead/miniconda3/envs/htf2/lib/python3.7/site-packages/tensorflow/python/ops/variables.py:264 __call__\n        return super(VariableMetaclass, cls).__call__(*args, **kwargs)\n    /home/whitead/miniconda3/envs/htf2/lib/python3.7/site-packages/tensorflow/python/eager/def_function.py:226 __init__\n        initial_value() if init_from_fn else initial_value,\n    /home/whitead/miniconda3/envs/htf2/lib/python3.7/site-packages/tensorflow/python/ops/init_ops.py:114 __call__\n        return array_ops.zeros(shape, dtype)\n    /home/whitead/miniconda3/envs/htf2/lib/python3.7/site-packages/tensorflow/python/util/dispatch.py:201 wrapper\n        return target(*args, **kwargs)\n    /home/whitead/miniconda3/envs/htf2/lib/python3.7/site-packages/tensorflow/python/ops/array_ops.py:2747 wrapped\n        tensor = fun(*args, **kwargs)\n    /home/whitead/miniconda3/envs/htf2/lib/python3.7/site-packages/tensorflow/python/ops/array_ops.py:2803 zeros\n        shape = ops.convert_to_tensor(shape, dtype=dtypes.int32)\n    /home/whitead/miniconda3/envs/htf2/lib/python3.7/site-packages/tensorflow/python/framework/ops.py:1499 convert_to_tensor\n        ret = conversion_func(value, dtype=dtype, name=name, as_ref=as_ref)\n    /home/whitead/miniconda3/envs/htf2/lib/python3.7/site-packages/tensorflow/python/framework/constant_op.py:355 _tensor_shape_tensor_conversion_function\n        \"Cannot convert a partially known TensorShape to a Tensor: %s\" % s)\n\n    ValueError: Cannot convert a partially known TensorShape to a Tensor: (None, 32)\n",
     "output_type": "error",
     "traceback": [
      "\u001b[0;31m---------------------------------------------------------------------------\u001b[0m",
      "\u001b[0;31mValueError\u001b[0m                                Traceback (most recent call last)",
      "\u001b[0;32m<ipython-input-60-93adcd9e5ff7>\u001b[0m in \u001b[0;36m<module>\u001b[0;34m\u001b[0m\n\u001b[1;32m      1\u001b[0m \u001b[0mr\u001b[0m \u001b[0;34m=\u001b[0m \u001b[0mtf\u001b[0m\u001b[0;34m.\u001b[0m\u001b[0mlinspace\u001b[0m\u001b[0;34m(\u001b[0m\u001b[0;36m0.5\u001b[0m\u001b[0;34m,\u001b[0m \u001b[0;36m5\u001b[0m\u001b[0;34m,\u001b[0m \u001b[0;36m1000\u001b[0m\u001b[0;34m)\u001b[0m\u001b[0;34m\u001b[0m\u001b[0;34m\u001b[0m\u001b[0m\n\u001b[0;32m----> 2\u001b[0;31m \u001b[0moutput\u001b[0m \u001b[0;34m=\u001b[0m \u001b[0mhtf\u001b[0m\u001b[0;34m.\u001b[0m\u001b[0mcompute_pairwise\u001b[0m\u001b[0;34m(\u001b[0m\u001b[0mmodel\u001b[0m\u001b[0;34m,\u001b[0m \u001b[0mr\u001b[0m\u001b[0;34m)\u001b[0m\u001b[0;34m\u001b[0m\u001b[0;34m\u001b[0m\u001b[0m\n\u001b[0m",
      "\u001b[0;32m~/miniconda3/envs/htf2/lib/python3.7/site-packages/hoomd/htf/utils.py\u001b[0m in \u001b[0;36mcompute_pairwise\u001b[0;34m(model, r)\u001b[0m\n\u001b[1;32m     31\u001b[0m         \u001b[0mnlist\u001b[0m\u001b[0;34m[\u001b[0m\u001b[0;36m0\u001b[0m\u001b[0;34m,\u001b[0m \u001b[0;36m0\u001b[0m\u001b[0;34m,\u001b[0m \u001b[0;36m1\u001b[0m\u001b[0;34m]\u001b[0m \u001b[0;34m=\u001b[0m \u001b[0mri\u001b[0m\u001b[0;34m\u001b[0m\u001b[0;34m\u001b[0m\u001b[0m\n\u001b[1;32m     32\u001b[0m         \u001b[0mnlist\u001b[0m\u001b[0;34m[\u001b[0m\u001b[0;36m1\u001b[0m\u001b[0;34m,\u001b[0m \u001b[0;36m0\u001b[0m\u001b[0;34m,\u001b[0m \u001b[0;36m1\u001b[0m\u001b[0;34m]\u001b[0m \u001b[0;34m=\u001b[0m \u001b[0;34m-\u001b[0m\u001b[0mri\u001b[0m\u001b[0;34m\u001b[0m\u001b[0;34m\u001b[0m\u001b[0m\n\u001b[0;32m---> 33\u001b[0;31m         \u001b[0mresult\u001b[0m \u001b[0;34m=\u001b[0m \u001b[0mmodel\u001b[0m\u001b[0;34m(\u001b[0m\u001b[0;34m[\u001b[0m\u001b[0mnlist\u001b[0m\u001b[0;34m,\u001b[0m \u001b[0mpositions\u001b[0m\u001b[0;34m,\u001b[0m \u001b[0mbox\u001b[0m\u001b[0;34m,\u001b[0m \u001b[0;36m1.0\u001b[0m\u001b[0;34m]\u001b[0m\u001b[0;34m)\u001b[0m\u001b[0;34m\u001b[0m\u001b[0;34m\u001b[0m\u001b[0m\n\u001b[0m\u001b[1;32m     34\u001b[0m         \u001b[0;32mif\u001b[0m \u001b[0moutput\u001b[0m \u001b[0;32mis\u001b[0m \u001b[0;32mNone\u001b[0m\u001b[0;34m:\u001b[0m\u001b[0;34m\u001b[0m\u001b[0;34m\u001b[0m\u001b[0m\n\u001b[1;32m     35\u001b[0m             \u001b[0moutput\u001b[0m \u001b[0;34m=\u001b[0m \u001b[0;34m[\u001b[0m\u001b[0mr\u001b[0m\u001b[0;34m.\u001b[0m\u001b[0mnumpy\u001b[0m\u001b[0;34m(\u001b[0m\u001b[0;34m)\u001b[0m\u001b[0;34m[\u001b[0m\u001b[0mnp\u001b[0m\u001b[0;34m.\u001b[0m\u001b[0mnewaxis\u001b[0m\u001b[0;34m,\u001b[0m \u001b[0;34m...\u001b[0m\u001b[0;34m]\u001b[0m \u001b[0;32mfor\u001b[0m \u001b[0mr\u001b[0m \u001b[0;32min\u001b[0m \u001b[0mresult\u001b[0m\u001b[0;34m]\u001b[0m\u001b[0;34m\u001b[0m\u001b[0;34m\u001b[0m\u001b[0m\n",
      "\u001b[0;32m~/miniconda3/envs/htf2/lib/python3.7/site-packages/tensorflow/python/keras/engine/base_layer.py\u001b[0m in \u001b[0;36m__call__\u001b[0;34m(self, *args, **kwargs)\u001b[0m\n\u001b[1;32m    983\u001b[0m \u001b[0;34m\u001b[0m\u001b[0m\n\u001b[1;32m    984\u001b[0m         \u001b[0;32mwith\u001b[0m \u001b[0mops\u001b[0m\u001b[0;34m.\u001b[0m\u001b[0menable_auto_cast_variables\u001b[0m\u001b[0;34m(\u001b[0m\u001b[0mself\u001b[0m\u001b[0;34m.\u001b[0m\u001b[0m_compute_dtype_object\u001b[0m\u001b[0;34m)\u001b[0m\u001b[0;34m:\u001b[0m\u001b[0;34m\u001b[0m\u001b[0;34m\u001b[0m\u001b[0m\n\u001b[0;32m--> 985\u001b[0;31m           \u001b[0moutputs\u001b[0m \u001b[0;34m=\u001b[0m \u001b[0mcall_fn\u001b[0m\u001b[0;34m(\u001b[0m\u001b[0minputs\u001b[0m\u001b[0;34m,\u001b[0m \u001b[0;34m*\u001b[0m\u001b[0margs\u001b[0m\u001b[0;34m,\u001b[0m \u001b[0;34m**\u001b[0m\u001b[0mkwargs\u001b[0m\u001b[0;34m)\u001b[0m\u001b[0;34m\u001b[0m\u001b[0;34m\u001b[0m\u001b[0m\n\u001b[0m\u001b[1;32m    986\u001b[0m \u001b[0;34m\u001b[0m\u001b[0m\n\u001b[1;32m    987\u001b[0m         \u001b[0;32mif\u001b[0m \u001b[0mself\u001b[0m\u001b[0;34m.\u001b[0m\u001b[0m_activity_regularizer\u001b[0m\u001b[0;34m:\u001b[0m\u001b[0;34m\u001b[0m\u001b[0;34m\u001b[0m\u001b[0m\n",
      "\u001b[0;32m~/miniconda3/envs/htf2/lib/python3.7/site-packages/hoomd/htf/simmodel.py\u001b[0m in \u001b[0;36mcall\u001b[0;34m(self, inputs, training)\u001b[0m\n\u001b[1;32m    114\u001b[0m \u001b[0;34m\u001b[0m\u001b[0m\n\u001b[1;32m    115\u001b[0m     \u001b[0;32mdef\u001b[0m \u001b[0mcall\u001b[0m\u001b[0;34m(\u001b[0m\u001b[0mself\u001b[0m\u001b[0;34m,\u001b[0m \u001b[0minputs\u001b[0m\u001b[0;34m,\u001b[0m \u001b[0mtraining\u001b[0m\u001b[0;34m)\u001b[0m\u001b[0;34m:\u001b[0m\u001b[0;34m\u001b[0m\u001b[0;34m\u001b[0m\u001b[0m\n\u001b[0;32m--> 116\u001b[0;31m         \u001b[0mout\u001b[0m \u001b[0;34m=\u001b[0m \u001b[0mself\u001b[0m\u001b[0;34m.\u001b[0m\u001b[0mcompute\u001b[0m\u001b[0;34m(\u001b[0m\u001b[0;34m*\u001b[0m\u001b[0minputs\u001b[0m\u001b[0;34m[\u001b[0m\u001b[0;34m:\u001b[0m\u001b[0mself\u001b[0m\u001b[0;34m.\u001b[0m\u001b[0m_arg_count\u001b[0m\u001b[0;34m]\u001b[0m\u001b[0;34m)\u001b[0m\u001b[0;34m\u001b[0m\u001b[0;34m\u001b[0m\u001b[0m\n\u001b[0m\u001b[1;32m    117\u001b[0m         \u001b[0;32mif\u001b[0m \u001b[0mtf\u001b[0m\u001b[0;34m.\u001b[0m\u001b[0mis_tensor\u001b[0m\u001b[0;34m(\u001b[0m\u001b[0mout\u001b[0m\u001b[0;34m)\u001b[0m\u001b[0;34m:\u001b[0m\u001b[0;34m\u001b[0m\u001b[0;34m\u001b[0m\u001b[0m\n\u001b[1;32m    118\u001b[0m             \u001b[0mout\u001b[0m \u001b[0;34m=\u001b[0m \u001b[0;34m(\u001b[0m\u001b[0mout\u001b[0m\u001b[0;34m,\u001b[0m\u001b[0;34m)\u001b[0m\u001b[0;34m\u001b[0m\u001b[0;34m\u001b[0m\u001b[0m\n",
      "\u001b[0;32m~/miniconda3/envs/htf2/lib/python3.7/site-packages/tensorflow/python/eager/def_function.py\u001b[0m in \u001b[0;36m__call__\u001b[0;34m(self, *args, **kwds)\u001b[0m\n\u001b[1;32m    778\u001b[0m       \u001b[0;32melse\u001b[0m\u001b[0;34m:\u001b[0m\u001b[0;34m\u001b[0m\u001b[0;34m\u001b[0m\u001b[0m\n\u001b[1;32m    779\u001b[0m         \u001b[0mcompiler\u001b[0m \u001b[0;34m=\u001b[0m \u001b[0;34m\"nonXla\"\u001b[0m\u001b[0;34m\u001b[0m\u001b[0;34m\u001b[0m\u001b[0m\n\u001b[0;32m--> 780\u001b[0;31m         \u001b[0mresult\u001b[0m \u001b[0;34m=\u001b[0m \u001b[0mself\u001b[0m\u001b[0;34m.\u001b[0m\u001b[0m_call\u001b[0m\u001b[0;34m(\u001b[0m\u001b[0;34m*\u001b[0m\u001b[0margs\u001b[0m\u001b[0;34m,\u001b[0m \u001b[0;34m**\u001b[0m\u001b[0mkwds\u001b[0m\u001b[0;34m)\u001b[0m\u001b[0;34m\u001b[0m\u001b[0;34m\u001b[0m\u001b[0m\n\u001b[0m\u001b[1;32m    781\u001b[0m \u001b[0;34m\u001b[0m\u001b[0m\n\u001b[1;32m    782\u001b[0m       \u001b[0mnew_tracing_count\u001b[0m \u001b[0;34m=\u001b[0m \u001b[0mself\u001b[0m\u001b[0;34m.\u001b[0m\u001b[0m_get_tracing_count\u001b[0m\u001b[0;34m(\u001b[0m\u001b[0;34m)\u001b[0m\u001b[0;34m\u001b[0m\u001b[0;34m\u001b[0m\u001b[0m\n",
      "\u001b[0;32m~/miniconda3/envs/htf2/lib/python3.7/site-packages/tensorflow/python/eager/def_function.py\u001b[0m in \u001b[0;36m_call\u001b[0;34m(self, *args, **kwds)\u001b[0m\n\u001b[1;32m    821\u001b[0m       \u001b[0;31m# This is the first call of __call__, so we have to initialize.\u001b[0m\u001b[0;34m\u001b[0m\u001b[0;34m\u001b[0m\u001b[0;34m\u001b[0m\u001b[0m\n\u001b[1;32m    822\u001b[0m       \u001b[0minitializers\u001b[0m \u001b[0;34m=\u001b[0m \u001b[0;34m[\u001b[0m\u001b[0;34m]\u001b[0m\u001b[0;34m\u001b[0m\u001b[0;34m\u001b[0m\u001b[0m\n\u001b[0;32m--> 823\u001b[0;31m       \u001b[0mself\u001b[0m\u001b[0;34m.\u001b[0m\u001b[0m_initialize\u001b[0m\u001b[0;34m(\u001b[0m\u001b[0margs\u001b[0m\u001b[0;34m,\u001b[0m \u001b[0mkwds\u001b[0m\u001b[0;34m,\u001b[0m \u001b[0madd_initializers_to\u001b[0m\u001b[0;34m=\u001b[0m\u001b[0minitializers\u001b[0m\u001b[0;34m)\u001b[0m\u001b[0;34m\u001b[0m\u001b[0;34m\u001b[0m\u001b[0m\n\u001b[0m\u001b[1;32m    824\u001b[0m     \u001b[0;32mfinally\u001b[0m\u001b[0;34m:\u001b[0m\u001b[0;34m\u001b[0m\u001b[0;34m\u001b[0m\u001b[0m\n\u001b[1;32m    825\u001b[0m       \u001b[0;31m# At this point we know that the initialization is complete (or less\u001b[0m\u001b[0;34m\u001b[0m\u001b[0;34m\u001b[0m\u001b[0;34m\u001b[0m\u001b[0m\n",
      "\u001b[0;32m~/miniconda3/envs/htf2/lib/python3.7/site-packages/tensorflow/python/eager/def_function.py\u001b[0m in \u001b[0;36m_initialize\u001b[0;34m(self, args, kwds, add_initializers_to)\u001b[0m\n\u001b[1;32m    695\u001b[0m     self._concrete_stateful_fn = (\n\u001b[1;32m    696\u001b[0m         self._stateful_fn._get_concrete_function_internal_garbage_collected(  # pylint: disable=protected-access\n\u001b[0;32m--> 697\u001b[0;31m             *args, **kwds))\n\u001b[0m\u001b[1;32m    698\u001b[0m \u001b[0;34m\u001b[0m\u001b[0m\n\u001b[1;32m    699\u001b[0m     \u001b[0;32mdef\u001b[0m \u001b[0minvalid_creator_scope\u001b[0m\u001b[0;34m(\u001b[0m\u001b[0;34m*\u001b[0m\u001b[0munused_args\u001b[0m\u001b[0;34m,\u001b[0m \u001b[0;34m**\u001b[0m\u001b[0munused_kwds\u001b[0m\u001b[0;34m)\u001b[0m\u001b[0;34m:\u001b[0m\u001b[0;34m\u001b[0m\u001b[0;34m\u001b[0m\u001b[0m\n",
      "\u001b[0;32m~/miniconda3/envs/htf2/lib/python3.7/site-packages/tensorflow/python/eager/function.py\u001b[0m in \u001b[0;36m_get_concrete_function_internal_garbage_collected\u001b[0;34m(self, *args, **kwargs)\u001b[0m\n\u001b[1;32m   2853\u001b[0m       \u001b[0margs\u001b[0m\u001b[0;34m,\u001b[0m \u001b[0mkwargs\u001b[0m \u001b[0;34m=\u001b[0m \u001b[0;32mNone\u001b[0m\u001b[0;34m,\u001b[0m \u001b[0;32mNone\u001b[0m\u001b[0;34m\u001b[0m\u001b[0;34m\u001b[0m\u001b[0m\n\u001b[1;32m   2854\u001b[0m     \u001b[0;32mwith\u001b[0m \u001b[0mself\u001b[0m\u001b[0;34m.\u001b[0m\u001b[0m_lock\u001b[0m\u001b[0;34m:\u001b[0m\u001b[0;34m\u001b[0m\u001b[0;34m\u001b[0m\u001b[0m\n\u001b[0;32m-> 2855\u001b[0;31m       \u001b[0mgraph_function\u001b[0m\u001b[0;34m,\u001b[0m \u001b[0m_\u001b[0m\u001b[0;34m,\u001b[0m \u001b[0m_\u001b[0m \u001b[0;34m=\u001b[0m \u001b[0mself\u001b[0m\u001b[0;34m.\u001b[0m\u001b[0m_maybe_define_function\u001b[0m\u001b[0;34m(\u001b[0m\u001b[0margs\u001b[0m\u001b[0;34m,\u001b[0m \u001b[0mkwargs\u001b[0m\u001b[0;34m)\u001b[0m\u001b[0;34m\u001b[0m\u001b[0;34m\u001b[0m\u001b[0m\n\u001b[0m\u001b[1;32m   2856\u001b[0m     \u001b[0;32mreturn\u001b[0m \u001b[0mgraph_function\u001b[0m\u001b[0;34m\u001b[0m\u001b[0;34m\u001b[0m\u001b[0m\n\u001b[1;32m   2857\u001b[0m \u001b[0;34m\u001b[0m\u001b[0m\n",
      "\u001b[0;32m~/miniconda3/envs/htf2/lib/python3.7/site-packages/tensorflow/python/eager/function.py\u001b[0m in \u001b[0;36m_maybe_define_function\u001b[0;34m(self, args, kwargs)\u001b[0m\n\u001b[1;32m   3211\u001b[0m \u001b[0;34m\u001b[0m\u001b[0m\n\u001b[1;32m   3212\u001b[0m       \u001b[0mself\u001b[0m\u001b[0;34m.\u001b[0m\u001b[0m_function_cache\u001b[0m\u001b[0;34m.\u001b[0m\u001b[0mmissed\u001b[0m\u001b[0;34m.\u001b[0m\u001b[0madd\u001b[0m\u001b[0;34m(\u001b[0m\u001b[0mcall_context_key\u001b[0m\u001b[0;34m)\u001b[0m\u001b[0;34m\u001b[0m\u001b[0;34m\u001b[0m\u001b[0m\n\u001b[0;32m-> 3213\u001b[0;31m       \u001b[0mgraph_function\u001b[0m \u001b[0;34m=\u001b[0m \u001b[0mself\u001b[0m\u001b[0;34m.\u001b[0m\u001b[0m_create_graph_function\u001b[0m\u001b[0;34m(\u001b[0m\u001b[0margs\u001b[0m\u001b[0;34m,\u001b[0m \u001b[0mkwargs\u001b[0m\u001b[0;34m)\u001b[0m\u001b[0;34m\u001b[0m\u001b[0;34m\u001b[0m\u001b[0m\n\u001b[0m\u001b[1;32m   3214\u001b[0m       \u001b[0mself\u001b[0m\u001b[0;34m.\u001b[0m\u001b[0m_function_cache\u001b[0m\u001b[0;34m.\u001b[0m\u001b[0mprimary\u001b[0m\u001b[0;34m[\u001b[0m\u001b[0mcache_key\u001b[0m\u001b[0;34m]\u001b[0m \u001b[0;34m=\u001b[0m \u001b[0mgraph_function\u001b[0m\u001b[0;34m\u001b[0m\u001b[0;34m\u001b[0m\u001b[0m\n\u001b[1;32m   3215\u001b[0m       \u001b[0;32mreturn\u001b[0m \u001b[0mgraph_function\u001b[0m\u001b[0;34m,\u001b[0m \u001b[0margs\u001b[0m\u001b[0;34m,\u001b[0m \u001b[0mkwargs\u001b[0m\u001b[0;34m\u001b[0m\u001b[0;34m\u001b[0m\u001b[0m\n",
      "\u001b[0;32m~/miniconda3/envs/htf2/lib/python3.7/site-packages/tensorflow/python/eager/function.py\u001b[0m in \u001b[0;36m_create_graph_function\u001b[0;34m(self, args, kwargs, override_flat_arg_shapes)\u001b[0m\n\u001b[1;32m   3073\u001b[0m             \u001b[0marg_names\u001b[0m\u001b[0;34m=\u001b[0m\u001b[0marg_names\u001b[0m\u001b[0;34m,\u001b[0m\u001b[0;34m\u001b[0m\u001b[0;34m\u001b[0m\u001b[0m\n\u001b[1;32m   3074\u001b[0m             \u001b[0moverride_flat_arg_shapes\u001b[0m\u001b[0;34m=\u001b[0m\u001b[0moverride_flat_arg_shapes\u001b[0m\u001b[0;34m,\u001b[0m\u001b[0;34m\u001b[0m\u001b[0;34m\u001b[0m\u001b[0m\n\u001b[0;32m-> 3075\u001b[0;31m             capture_by_value=self._capture_by_value),\n\u001b[0m\u001b[1;32m   3076\u001b[0m         \u001b[0mself\u001b[0m\u001b[0;34m.\u001b[0m\u001b[0m_function_attributes\u001b[0m\u001b[0;34m,\u001b[0m\u001b[0;34m\u001b[0m\u001b[0;34m\u001b[0m\u001b[0m\n\u001b[1;32m   3077\u001b[0m         \u001b[0mfunction_spec\u001b[0m\u001b[0;34m=\u001b[0m\u001b[0mself\u001b[0m\u001b[0;34m.\u001b[0m\u001b[0mfunction_spec\u001b[0m\u001b[0;34m,\u001b[0m\u001b[0;34m\u001b[0m\u001b[0;34m\u001b[0m\u001b[0m\n",
      "\u001b[0;32m~/miniconda3/envs/htf2/lib/python3.7/site-packages/tensorflow/python/framework/func_graph.py\u001b[0m in \u001b[0;36mfunc_graph_from_py_func\u001b[0;34m(name, python_func, args, kwargs, signature, func_graph, autograph, autograph_options, add_control_dependencies, arg_names, op_return_value, collections, capture_by_value, override_flat_arg_shapes)\u001b[0m\n\u001b[1;32m    984\u001b[0m         \u001b[0m_\u001b[0m\u001b[0;34m,\u001b[0m \u001b[0moriginal_func\u001b[0m \u001b[0;34m=\u001b[0m \u001b[0mtf_decorator\u001b[0m\u001b[0;34m.\u001b[0m\u001b[0munwrap\u001b[0m\u001b[0;34m(\u001b[0m\u001b[0mpython_func\u001b[0m\u001b[0;34m)\u001b[0m\u001b[0;34m\u001b[0m\u001b[0;34m\u001b[0m\u001b[0m\n\u001b[1;32m    985\u001b[0m \u001b[0;34m\u001b[0m\u001b[0m\n\u001b[0;32m--> 986\u001b[0;31m       \u001b[0mfunc_outputs\u001b[0m \u001b[0;34m=\u001b[0m \u001b[0mpython_func\u001b[0m\u001b[0;34m(\u001b[0m\u001b[0;34m*\u001b[0m\u001b[0mfunc_args\u001b[0m\u001b[0;34m,\u001b[0m \u001b[0;34m**\u001b[0m\u001b[0mfunc_kwargs\u001b[0m\u001b[0;34m)\u001b[0m\u001b[0;34m\u001b[0m\u001b[0;34m\u001b[0m\u001b[0m\n\u001b[0m\u001b[1;32m    987\u001b[0m \u001b[0;34m\u001b[0m\u001b[0m\n\u001b[1;32m    988\u001b[0m       \u001b[0;31m# invariant: `func_outputs` contains only Tensors, CompositeTensors,\u001b[0m\u001b[0;34m\u001b[0m\u001b[0;34m\u001b[0m\u001b[0;34m\u001b[0m\u001b[0m\n",
      "\u001b[0;32m~/miniconda3/envs/htf2/lib/python3.7/site-packages/tensorflow/python/eager/def_function.py\u001b[0m in \u001b[0;36mwrapped_fn\u001b[0;34m(*args, **kwds)\u001b[0m\n\u001b[1;32m    598\u001b[0m         \u001b[0;31m# __wrapped__ allows AutoGraph to swap in a converted function. We give\u001b[0m\u001b[0;34m\u001b[0m\u001b[0;34m\u001b[0m\u001b[0;34m\u001b[0m\u001b[0m\n\u001b[1;32m    599\u001b[0m         \u001b[0;31m# the function a weak reference to itself to avoid a reference cycle.\u001b[0m\u001b[0;34m\u001b[0m\u001b[0;34m\u001b[0m\u001b[0;34m\u001b[0m\u001b[0m\n\u001b[0;32m--> 600\u001b[0;31m         \u001b[0;32mreturn\u001b[0m \u001b[0mweak_wrapped_fn\u001b[0m\u001b[0;34m(\u001b[0m\u001b[0;34m)\u001b[0m\u001b[0;34m.\u001b[0m\u001b[0m__wrapped__\u001b[0m\u001b[0;34m(\u001b[0m\u001b[0;34m*\u001b[0m\u001b[0margs\u001b[0m\u001b[0;34m,\u001b[0m \u001b[0;34m**\u001b[0m\u001b[0mkwds\u001b[0m\u001b[0;34m)\u001b[0m\u001b[0;34m\u001b[0m\u001b[0;34m\u001b[0m\u001b[0m\n\u001b[0m\u001b[1;32m    601\u001b[0m     \u001b[0mweak_wrapped_fn\u001b[0m \u001b[0;34m=\u001b[0m \u001b[0mweakref\u001b[0m\u001b[0;34m.\u001b[0m\u001b[0mref\u001b[0m\u001b[0;34m(\u001b[0m\u001b[0mwrapped_fn\u001b[0m\u001b[0;34m)\u001b[0m\u001b[0;34m\u001b[0m\u001b[0;34m\u001b[0m\u001b[0m\n\u001b[1;32m    602\u001b[0m \u001b[0;34m\u001b[0m\u001b[0m\n",
      "\u001b[0;32m~/miniconda3/envs/htf2/lib/python3.7/site-packages/tensorflow/python/framework/func_graph.py\u001b[0m in \u001b[0;36mwrapper\u001b[0;34m(*args, **kwargs)\u001b[0m\n\u001b[1;32m    971\u001b[0m           \u001b[0;32mexcept\u001b[0m \u001b[0mException\u001b[0m \u001b[0;32mas\u001b[0m \u001b[0me\u001b[0m\u001b[0;34m:\u001b[0m  \u001b[0;31m# pylint:disable=broad-except\u001b[0m\u001b[0;34m\u001b[0m\u001b[0;34m\u001b[0m\u001b[0m\n\u001b[1;32m    972\u001b[0m             \u001b[0;32mif\u001b[0m \u001b[0mhasattr\u001b[0m\u001b[0;34m(\u001b[0m\u001b[0me\u001b[0m\u001b[0;34m,\u001b[0m \u001b[0;34m\"ag_error_metadata\"\u001b[0m\u001b[0;34m)\u001b[0m\u001b[0;34m:\u001b[0m\u001b[0;34m\u001b[0m\u001b[0;34m\u001b[0m\u001b[0m\n\u001b[0;32m--> 973\u001b[0;31m               \u001b[0;32mraise\u001b[0m \u001b[0me\u001b[0m\u001b[0;34m.\u001b[0m\u001b[0mag_error_metadata\u001b[0m\u001b[0;34m.\u001b[0m\u001b[0mto_exception\u001b[0m\u001b[0;34m(\u001b[0m\u001b[0me\u001b[0m\u001b[0;34m)\u001b[0m\u001b[0;34m\u001b[0m\u001b[0;34m\u001b[0m\u001b[0m\n\u001b[0m\u001b[1;32m    974\u001b[0m             \u001b[0;32melse\u001b[0m\u001b[0;34m:\u001b[0m\u001b[0;34m\u001b[0m\u001b[0;34m\u001b[0m\u001b[0m\n\u001b[1;32m    975\u001b[0m               \u001b[0;32mraise\u001b[0m\u001b[0;34m\u001b[0m\u001b[0;34m\u001b[0m\u001b[0m\n",
      "\u001b[0;31mValueError\u001b[0m: in user code:\n\n    <ipython-input-56-1cf1dfe4a59f>:39 compute  *\n        a.update_state(u)\n    /home/whitead/miniconda3/envs/htf2/lib/python3.7/site-packages/tensorflow/python/keras/utils/metrics_utils.py:90 decorated  **\n        update_op = update_state_fn(*args, **kwargs)\n    /home/whitead/miniconda3/envs/htf2/lib/python3.7/site-packages/tensorflow/python/keras/metrics.py:176 update_state_fn\n        return ag_update_state(*args, **kwargs)\n    /home/whitead/miniconda3/envs/htf2/lib/python3.7/site-packages/tensorflow/python/keras/metrics.py:2913 update_state  **\n        self._build(values.shape)\n    /home/whitead/miniconda3/envs/htf2/lib/python3.7/site-packages/tensorflow/python/keras/metrics.py:2885 _build\n        'total', shape=shape, initializer=init_ops.zeros_initializer)\n    /home/whitead/miniconda3/envs/htf2/lib/python3.7/site-packages/tensorflow/python/keras/metrics.py:308 add_weight\n        aggregation=aggregation)\n    /home/whitead/miniconda3/envs/htf2/lib/python3.7/site-packages/tensorflow/python/keras/engine/base_layer.py:614 add_weight\n        caching_device=caching_device)\n    /home/whitead/miniconda3/envs/htf2/lib/python3.7/site-packages/tensorflow/python/training/tracking/base.py:750 _add_variable_with_custom_getter\n        **kwargs_for_getter)\n    /home/whitead/miniconda3/envs/htf2/lib/python3.7/site-packages/tensorflow/python/keras/engine/base_layer_utils.py:145 make_variable\n        shape=variable_shape if variable_shape else None)\n    /home/whitead/miniconda3/envs/htf2/lib/python3.7/site-packages/tensorflow/python/ops/variables.py:260 __call__\n        return cls._variable_v1_call(*args, **kwargs)\n    /home/whitead/miniconda3/envs/htf2/lib/python3.7/site-packages/tensorflow/python/ops/variables.py:221 _variable_v1_call\n        shape=shape)\n    /home/whitead/miniconda3/envs/htf2/lib/python3.7/site-packages/tensorflow/python/ops/variables.py:67 getter\n        return captured_getter(captured_previous, **kwargs)\n    /home/whitead/miniconda3/envs/htf2/lib/python3.7/site-packages/tensorflow/python/eager/def_function.py:685 variable_capturing_scope\n        lifted_initializer_graph=lifted_initializer_graph, **kwds)\n    /home/whitead/miniconda3/envs/htf2/lib/python3.7/site-packages/tensorflow/python/ops/variables.py:264 __call__\n        return super(VariableMetaclass, cls).__call__(*args, **kwargs)\n    /home/whitead/miniconda3/envs/htf2/lib/python3.7/site-packages/tensorflow/python/eager/def_function.py:226 __init__\n        initial_value() if init_from_fn else initial_value,\n    /home/whitead/miniconda3/envs/htf2/lib/python3.7/site-packages/tensorflow/python/ops/init_ops.py:114 __call__\n        return array_ops.zeros(shape, dtype)\n    /home/whitead/miniconda3/envs/htf2/lib/python3.7/site-packages/tensorflow/python/util/dispatch.py:201 wrapper\n        return target(*args, **kwargs)\n    /home/whitead/miniconda3/envs/htf2/lib/python3.7/site-packages/tensorflow/python/ops/array_ops.py:2747 wrapped\n        tensor = fun(*args, **kwargs)\n    /home/whitead/miniconda3/envs/htf2/lib/python3.7/site-packages/tensorflow/python/ops/array_ops.py:2803 zeros\n        shape = ops.convert_to_tensor(shape, dtype=dtypes.int32)\n    /home/whitead/miniconda3/envs/htf2/lib/python3.7/site-packages/tensorflow/python/framework/ops.py:1499 convert_to_tensor\n        ret = conversion_func(value, dtype=dtype, name=name, as_ref=as_ref)\n    /home/whitead/miniconda3/envs/htf2/lib/python3.7/site-packages/tensorflow/python/framework/constant_op.py:355 _tensor_shape_tensor_conversion_function\n        \"Cannot convert a partially known TensorShape to a Tensor: %s\" % s)\n\n    ValueError: Cannot convert a partially known TensorShape to a Tensor: (None, 32)\n"
     ]
    }
   ],
   "source": [
    "r = tf.linspace(0.5, 5, 1000)\n",
    "output = htf.compute_pairwise(model, r)"
   ]
  },
  {
   "cell_type": "code",
   "execution_count": null,
   "metadata": {},
   "outputs": [],
   "source": [
    "plt.plot(r, output[1])"
   ]
  },
  {
   "cell_type": "code",
   "execution_count": null,
   "metadata": {},
   "outputs": [],
   "source": []
  }
 ],
 "metadata": {
  "kernelspec": {
   "display_name": "Python 3",
   "language": "python",
   "name": "python3"
  },
  "language_info": {
   "codemirror_mode": {
    "name": "ipython",
    "version": 3
   },
   "file_extension": ".py",
   "mimetype": "text/x-python",
   "name": "python",
   "nbconvert_exporter": "python",
   "pygments_lexer": "ipython3",
   "version": "3.7.8"
  }
 },
 "nbformat": 4,
 "nbformat_minor": 4
}
